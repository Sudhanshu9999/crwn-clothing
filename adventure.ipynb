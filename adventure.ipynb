# some rooms

# chamber - stage 4
def chamber():
    # some prompts
    print("\nYou are now in the dimly lit chamber where Ginny lies unconscious in the center with \nthe 8th horcrux - the fallen phoenix, trying to kill her.")
    print("The only way to save Ginny is to kill the phoenix. \nThe only items you can see around you are the reversed cursed opal necklace and the sword of Gryffindor. ")
    print("\nWhat will you do? (1 or 2)")
    print("1). Use your wand to cast Sectumsempra on the fallen pheonix and risk losing your ability to use magic again.")
    print("2). Use the reversed cursed opal necklace to defend, and the sword of Gryffindor to combat the phoenix.")

    # take input()
    answer = input()

    if answer == "1":
        # the player is dead, call game_over() function with the "reason"
        game_over(
            "The spell didn't affect the fallen phoenix as it was not to be used on a horcrux. \nTt put its claws into your back and out through your chest which killed you.")
    elif answer == "2":
        print("\nPress and enter 'x' 3 times one after one to strike the phoenix with your sword")
        # strike counter
        strike = 0
       
        for strike in range(0,3):

          # accept stab input and covert to lower case
          stabInput = input(">").lower()

          # condition to check whether it is a correct strike
          if ("x" in stabInput):
            stabInput = ""
            strike = strike + 1
            if(strike == 1):
                print("\nA strike to the phoenix's left wing!")
            elif(strike == 2):
                print("\nA strike to the phoenix's right wing!")
            elif(strike == 3):
                print("\nA final strike through its head!!")
          else: game_over("Alas! you missed a strike and were killed by the poison lava thrown at you by the fallen phoenix!")

        # the player won the game
        print("\nAfter a fierce battle, you have been victorious! You save Ginny from the Chamber, and the wrath of the Horcrux! \nCongratulations! You have finished the game. You are awesome!")
        # activate play_again() function
        play_again()
    else:
        # call game_over() with "reason"
        game_over("You could have saved Ginny....")

# Door of 1000 curses - stage 3
def riddlePath():
    # give some prompts
    print("\nYou lost too much time on the previous stage and now must speed up if you want to save Ginny! \nYou are now infront of the door of a 1000 curses. \nYou are close, yet so far from your destiny!")
    print("In order to unlock this door you must correctly answer the riddle it asks \nor you will be enchanted by the lost souls of Azkaban. \nYou have 3 chances to solve this riddle.")
    print("\nI roam the woods of Hogwarts \nand my coat can really shine, \nbut don’t you dare, \ntry to drink my blood; \nor you’ll be cursed for life!")
    print("What is the right answer?")
    print("1). Unicorn")
    print("2). Phoenix")
    print("3). Basilisk")
    print("4). Dementor")
   
    counter = 3
   
    while (counter>0):
   
    # take input()
        print("\nEnter Your Answer")
        answer = input()

        if (answer == "1"):
        # lead him to the chamber()
            print(
            "\nGreat! You got the riddle right. Will you be able to survive what awaits you in the final chamber?")
            chamber()

        else:
            counter = counter-1
            if (counter == 0):
         
        # else call game_over() function with the "reason" argument
                game_over("How many times until you get this right?")
            else:
                print("\nChances remaining -> ",counter," ")

       
       
# troll room - stage 2 - option 2
def troll_room():
    # give some prompts
    print("\nOh no! There is a mountain troll holding a wooden bat here. \nThe troll has not spotted you as it is busy eating rotten meat that was thrown away by the hotel staff.")
    print("Behind the troll is another door. You need to get past the troll to pass through.")
    print("You may not put your wand in his nose this time, and, your powers are too weak to use Wingardium Leviosa.")
    print("What will you do? (1 or 2)")
    print("1). Take away the food")
    print("2). Taunt the troll")

    # take input()
    answer = input()

    if answer == "1":
        # the player is dead!
        game_over("HAHAHA The troll killed you with his bat.")
    elif answer == "2":
        # lead him to the chamber()
        print(
            "\nIn the good time, the mountain troll moved from the door. You can go through it now!")
        riddlePath()
    else:
        # else call game_over() function with the "reason" argument
        game_over("Don't you know how to type a number?")


# monster room - stage 2 - option 1
def monster_room():
    # some prompts
    print("\nNow you have entered the room of a monster!")
    print("A giant goblin stands guarding another door behind it, bare handed. What spell will you use? (1 or 2)")
    print("1). Imperius")
    print("2). Expelliarmus")

    # take input()
    answer = input()

    if answer == "1":
        # lead him to the chamber()
        print("\nThe goblin is now under your command and he paved way to go through the door, \nbut hurry up as the spell is weakened.")
        riddlePath()
    elif answer == "2":
        # the player is dead, call game_over() with "reason"
        game_over(
            "There was nothing this disarming spell could do to the giant goblin and he caught you.")
    else:
        # game_over() with "reason"
        game_over("Seriously? Go and learn how to type a number.")


# function to ask play again or not
def play_again():
    print("\nDo you want to play again? (y or n)")

    # convert the player's input to lower_case
    answer = input().lower()

    if "y" in answer:
        # if player typed "yes" or "y" start the game from the beginning
        start()
    else:
        # if user types anything besides "yes" or "y", exit() the program
        exit()


# game_over function accepts an argument called "reason"
def game_over(reason):
    # print the "reason" in a new line (\n)
    print("\n" + reason)
    print("Game Over!")
    # ask player to play again or not by activating play_again() function
    play_again()


# stage 1
def start():
    # give some prompts.
    
    print("\nYou are standing in a dark room beyond the basement. Which spell will you use to see through? \n(Remember your powers are dampened)")
    print("1). Luminos")
    print("2). Incendio")

    # take input()
    answer1 = input()

    if answer1 == "1":
        print("\nGood to see you remember your teachings from the academic essentials classes. \nYou can now see around with your wand.")
        print(
            "Every door is identical. There is one on each side of you. \nWhich one do you wish to open? (l or r)")

        # convert the player's input() to lower_case
        answer = input().lower()

        if "l" in answer:
            # if player typed "left" or "l" lead him to troll_room()
            troll_room()
        elif "r" in answer:
            # else if player typed "right" or "r" lead him to monster_room()
            monster_room()
        else:
            # else call game_over() function with the "reason" argument
            game_over("Dumbledore is disappointed in your spell casting skills")

    elif answer1 == "2":
        # the player is dead, call game_over() with "reason"
        game_over("You burned yourself with the fireballs shooting from your wand!")
    else:
        # game_over() with "reason"
        game_over("Magic is not for you - go and learn how to type a number.")



def startPoint():
    print(intro.__doc__)

    answer = input().lower()

    if "y" in answer:
        # if player typed "yes" or "y" start the game from the beginning
            start()
    else:
        # if user types anything besides "yes" or "y", exit() the program
            exit()



def intro():
    # introductory docstring
    '''
                  Harry Potter and The Horcrux of Cambridge ⊃━☆ﾟ.*・｡ﾟ

    It is the the annual Hogwarts International Vacation!
    Students' magical powers are dampened by the potion they were made to drink 
    before they got on to the Jacobite! 
    Everything is going well until you, Harry Potter, 
    have checked into the Royal Sonesta hotel.
    This modern hotel may seem fun, futuristic, and fancy, but has a dark history behind it. 
    It is said to have been built on the rarest mixed-soil of crimson pearl-obsidian, 
    traces of which were once found in VoLdEMoRt's room at Wool's orphanage. 
    On the first night of your adventure, 
    your friend Ginny goes missing from her room!
    You hear voices in your head about it and have realized that you need to save her before the sun rises. 
    Get through the obstacles and defeat all the monsters 
    in the trenches of the hotel and save Ginny!!! 
    You have 5 hours!
    
 Are you ready to play? (y or n)
    '''


# start the game
startPoint()